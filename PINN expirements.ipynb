{
 "cells": [
  {
   "cell_type": "code",
   "execution_count": 1,
   "id": "6c23f90c-a036-43ad-84d3-e0934ae25ca2",
   "metadata": {
    "execution": {
     "iopub.execute_input": "2023-05-08T16:37:33.087743Z",
     "iopub.status.busy": "2023-05-08T16:37:33.087329Z",
     "iopub.status.idle": "2023-05-08T16:37:35.948271Z",
     "shell.execute_reply": "2023-05-08T16:37:35.946866Z",
     "shell.execute_reply.started": "2023-05-08T16:37:33.087708Z"
    },
    "tags": []
   },
   "outputs": [],
   "source": [
    "import torch\n",
    "import torch.nn as nn\n",
    "import numpy as np\n",
    "from phi.flow import *"
   ]
  },
  {
   "cell_type": "code",
   "execution_count": 2,
   "id": "2c1574fb-4a70-41a6-9331-8d99da7d2817",
   "metadata": {
    "execution": {
     "iopub.execute_input": "2023-05-08T16:39:58.577213Z",
     "iopub.status.busy": "2023-05-08T16:39:58.576700Z",
     "iopub.status.idle": "2023-05-08T16:39:58.582349Z",
     "shell.execute_reply": "2023-05-08T16:39:58.580886Z",
     "shell.execute_reply.started": "2023-05-08T16:39:58.577172Z"
    },
    "tags": []
   },
   "outputs": [],
   "source": [
    "batch_size = 256\n",
    "epochs = 1000"
   ]
  },
  {
   "cell_type": "code",
   "execution_count": 3,
   "id": "4d6132ee-05da-4011-a59d-3cb46ed465a4",
   "metadata": {
    "execution": {
     "iopub.execute_input": "2023-05-08T16:39:58.949120Z",
     "iopub.status.busy": "2023-05-08T16:39:58.948442Z",
     "iopub.status.idle": "2023-05-08T16:39:58.956276Z",
     "shell.execute_reply": "2023-05-08T16:39:58.954928Z",
     "shell.execute_reply.started": "2023-05-08T16:39:58.949073Z"
    },
    "tags": []
   },
   "outputs": [],
   "source": [
    "x = torch.tensor((4, 3), dtype=float)"
   ]
  },
  {
   "cell_type": "code",
   "execution_count": 4,
   "id": "0f90c707-14ff-463b-b12e-3d4204b55b97",
   "metadata": {
    "execution": {
     "iopub.execute_input": "2023-05-08T16:39:59.367513Z",
     "iopub.status.busy": "2023-05-08T16:39:59.367040Z",
     "iopub.status.idle": "2023-05-08T16:39:59.377162Z",
     "shell.execute_reply": "2023-05-08T16:39:59.375910Z",
     "shell.execute_reply.started": "2023-05-08T16:39:59.367476Z"
    },
    "tags": []
   },
   "outputs": [
    {
     "data": {
      "text/plain": [
       "tensor(5., dtype=torch.float64)"
      ]
     },
     "execution_count": 4,
     "metadata": {},
     "output_type": "execute_result"
    }
   ],
   "source": [
    "torch.norm(x)"
   ]
  },
  {
   "cell_type": "code",
   "execution_count": 5,
   "id": "94f4570d-3031-4ea2-9b29-354775d78f17",
   "metadata": {
    "execution": {
     "iopub.execute_input": "2023-05-08T16:39:59.818496Z",
     "iopub.status.busy": "2023-05-08T16:39:59.817767Z",
     "iopub.status.idle": "2023-05-08T16:39:59.823422Z",
     "shell.execute_reply": "2023-05-08T16:39:59.822216Z",
     "shell.execute_reply.started": "2023-05-08T16:39:59.818452Z"
    },
    "tags": []
   },
   "outputs": [],
   "source": [
    "a = -1/(2 * np.pi)"
   ]
  },
  {
   "cell_type": "code",
   "execution_count": 6,
   "id": "e4f6dabe-a2e5-41af-9cc6-a42f2db27dfb",
   "metadata": {
    "execution": {
     "iopub.execute_input": "2023-05-08T16:40:00.949155Z",
     "iopub.status.busy": "2023-05-08T16:40:00.948000Z",
     "iopub.status.idle": "2023-05-08T16:40:00.957027Z",
     "shell.execute_reply": "2023-05-08T16:40:00.955852Z",
     "shell.execute_reply.started": "2023-05-08T16:40:00.949109Z"
    },
    "tags": []
   },
   "outputs": [],
   "source": [
    "class PINN(nn.Module):\n",
    "    def __init__(self):\n",
    "        super(PINN, self).__init__()\n",
    "        self.lin1 = nn.Linear(2, 50)\n",
    "        self.lin2 = nn.Linear(50, 100)\n",
    "        self.lin3 = nn.Linear(100, 50)\n",
    "        self.lin4 = nn.Linear(50, 1)\n",
    "        self.tanh = nn.Tanh()\n",
    "        \n",
    "    def forward(self, x):\n",
    "        layer1 = self.tanh(self.lin1(x))\n",
    "        layer2 = self.tanh(self.lin2(layer1))\n",
    "        layer3 = self.tanh(self.lin3(layer2))\n",
    "        layer4 = self.tanh(self.lin4(layer3))\n",
    "        return layer4"
   ]
  },
  {
   "cell_type": "code",
   "execution_count": 7,
   "id": "f2b73c05-e78b-4675-9aa9-acff65dc4de5",
   "metadata": {
    "execution": {
     "iopub.execute_input": "2023-05-08T16:40:02.015959Z",
     "iopub.status.busy": "2023-05-08T16:40:02.015291Z",
     "iopub.status.idle": "2023-05-08T16:40:02.023060Z",
     "shell.execute_reply": "2023-05-08T16:40:02.022146Z",
     "shell.execute_reply.started": "2023-05-08T16:40:02.015912Z"
    },
    "tags": []
   },
   "outputs": [],
   "source": [
    "net = PINN()\n",
    "loss = nn.L1Loss()\n",
    "optimizer = torch.optim.Adam(net.parameters())"
   ]
  },
  {
   "cell_type": "code",
   "execution_count": 8,
   "id": "8f95cbbe-1180-415b-82b6-a869fdc251d9",
   "metadata": {
    "execution": {
     "iopub.execute_input": "2023-05-08T16:40:02.416611Z",
     "iopub.status.busy": "2023-05-08T16:40:02.416133Z",
     "iopub.status.idle": "2023-05-08T16:40:02.423935Z",
     "shell.execute_reply": "2023-05-08T16:40:02.422463Z",
     "shell.execute_reply.started": "2023-05-08T16:40:02.416576Z"
    },
    "tags": []
   },
   "outputs": [],
   "source": [
    "def Laplacian(x, y, net):\n",
    "    u = net(torch.cat([x, y], dim=1))\n",
    "    u_x = torch.autograd.grad(u.sum(), x, create_graph=True)[0]\n",
    "    u_xx = torch.autograd.grad(u_x.sum(), x, create_graph=True)[0]\n",
    "    u_y = torch.autograd.grad(u.sum(), x, create_graph=True)[0]\n",
    "    u_yy = torch.autograd.grad(u_y.sum(), y, create_graph=True)[0]\n",
    "\n",
    "    return u_xx**2 + u_yy**2"
   ]
  },
  {
   "cell_type": "code",
   "execution_count": 9,
   "id": "9fa9a9c8-d3ca-4b9e-9d56-0d2c88b67528",
   "metadata": {
    "execution": {
     "iopub.execute_input": "2023-05-08T16:40:02.886509Z",
     "iopub.status.busy": "2023-05-08T16:40:02.885624Z",
     "iopub.status.idle": "2023-05-08T16:40:02.898632Z",
     "shell.execute_reply": "2023-05-08T16:40:02.897623Z",
     "shell.execute_reply.started": "2023-05-08T16:40:02.886468Z"
    },
    "tags": []
   },
   "outputs": [
    {
     "data": {
      "text/plain": [
       "tensor([[0.0019],\n",
       "        [0.0013]], grad_fn=<AddBackward0>)"
      ]
     },
     "execution_count": 9,
     "metadata": {},
     "output_type": "execute_result"
    }
   ],
   "source": [
    "c = torch.rand(2, requires_grad=True).view(2, 1)\n",
    "b = torch.rand(2, requires_grad=True).view(2,1)\n",
    "torch.cat([c, b], dim=1)\n",
    "z = Laplacian(c, b, net)\n",
    "z\n",
    "\n",
    "#c = torch.cat([a, b])\n",
    "#print(torch.autograd.grad(net(c), b, create_graph=True)[0])\n",
    "#net(c)"
   ]
  },
  {
   "cell_type": "code",
   "execution_count": 10,
   "id": "9f066a3b-1885-45c2-815e-e4c730ce2958",
   "metadata": {
    "execution": {
     "iopub.execute_input": "2023-05-08T16:40:04.341645Z",
     "iopub.status.busy": "2023-05-08T16:40:04.340306Z",
     "iopub.status.idle": "2023-05-08T16:40:04.347304Z",
     "shell.execute_reply": "2023-05-08T16:40:04.346006Z",
     "shell.execute_reply.started": "2023-05-08T16:40:04.341596Z"
    },
    "tags": []
   },
   "outputs": [],
   "source": [
    "def phi_function(x):\n",
    "    return a * torch.log(torch.linalg.vector_norm(x, dim=1))"
   ]
  },
  {
   "cell_type": "code",
   "execution_count": 11,
   "id": "b4ad08af-36a9-4583-91cf-2112b6cc6c91",
   "metadata": {
    "execution": {
     "iopub.execute_input": "2023-05-08T16:40:04.787442Z",
     "iopub.status.busy": "2023-05-08T16:40:04.786903Z",
     "iopub.status.idle": "2023-05-08T16:40:04.800579Z",
     "shell.execute_reply": "2023-05-08T16:40:04.799426Z",
     "shell.execute_reply.started": "2023-05-08T16:40:04.787405Z"
    },
    "tags": []
   },
   "outputs": [
    {
     "name": "stdout",
     "output_type": "stream",
     "text": [
      "tensor([0.0621, 0.0114], grad_fn=<MulBackward0>)\n",
      "tensor([[ 0.0072],\n",
      "        [-0.0362]], grad_fn=<TanhBackward0>)\n"
     ]
    }
   ],
   "source": [
    "xs = torch.rand((2, 1), requires_grad=True)\n",
    "ys = torch.rand((2, 1), requires_grad=True)\n",
    "input = torch.cat([xs, ys], dim=1)\n",
    "\n",
    "print(phi_function(input))\n",
    "print(net(input))\n",
    "\n",
    "#Laplacian(xs, ys, net)"
   ]
  },
  {
   "cell_type": "code",
   "execution_count": 12,
   "id": "ea780e72-927e-4266-a390-2e76d67bf6ea",
   "metadata": {
    "execution": {
     "iopub.execute_input": "2023-05-08T16:41:43.679197Z",
     "iopub.status.busy": "2023-05-08T16:41:43.678506Z",
     "iopub.status.idle": "2023-05-08T16:41:45.139186Z",
     "shell.execute_reply": "2023-05-08T16:41:45.138311Z",
     "shell.execute_reply.started": "2023-05-08T16:41:43.679094Z"
    },
    "tags": []
   },
   "outputs": [],
   "source": [
    "for i in range(epochs):\n",
    "    net.zero_grad()\n",
    "    xs = torch.rand((batch_size, 1), requires_grad=True)\n",
    "    ys = torch.rand((batch_size, 1), requires_grad=True)\n",
    "    input = torch.cat([xs, ys], dim=1)\n",
    "    out = net(input).squeeze()\n",
    "    expected = phi_function(input)\n",
    "    \n",
    "    result = loss(out, expected) + torch.mean(Laplacian(xs, ys, net))\n",
    "    #print('epoch: ' + str(i))\n",
    "    #print(result)\n",
    "    result.backward()\n",
    "    optimizer.step()"
   ]
  },
  {
   "cell_type": "code",
   "execution_count": 13,
   "id": "4f1ae26f-2949-4a19-9461-d35eb8555fe4",
   "metadata": {
    "execution": {
     "iopub.execute_input": "2023-05-08T21:26:01.143975Z",
     "iopub.status.busy": "2023-05-08T21:26:01.143486Z",
     "iopub.status.idle": "2023-05-08T21:26:01.156707Z",
     "shell.execute_reply": "2023-05-08T21:26:01.155751Z",
     "shell.execute_reply.started": "2023-05-08T21:26:01.143939Z"
    },
    "tags": []
   },
   "outputs": [
    {
     "name": "stdout",
     "output_type": "stream",
     "text": [
      "tensor([[0.0128]], grad_fn=<SubBackward0>)\n",
      "tensor([[0.0006]], grad_fn=<AddBackward0>)\n"
     ]
    }
   ],
   "source": [
    "x = torch.rand(1, requires_grad=True).view(1, 1)\n",
    "y = torch.rand(1, requires_grad=True).view(1, 1)\n",
    "\n",
    "input = torch.cat([x, y], dim=1)\n",
    "\n",
    "print(net(input) - phi_function(input))\n",
    "print(Laplacian(x, y, net))"
   ]
  },
  {
   "cell_type": "code",
   "execution_count": null,
   "id": "9521b610-a30f-4f9b-8064-8dfe0efa7def",
   "metadata": {},
   "outputs": [],
   "source": []
  }
 ],
 "metadata": {
  "kernelspec": {
   "display_name": "Python 3 (ipykernel)",
   "language": "python",
   "name": "python3"
  },
  "language_info": {
   "codemirror_mode": {
    "name": "ipython",
    "version": 3
   },
   "file_extension": ".py",
   "mimetype": "text/x-python",
   "name": "python",
   "nbconvert_exporter": "python",
   "pygments_lexer": "ipython3",
   "version": "3.9.16"
  }
 },
 "nbformat": 4,
 "nbformat_minor": 5
}
